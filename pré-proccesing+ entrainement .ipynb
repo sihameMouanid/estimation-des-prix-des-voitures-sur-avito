{
 "cells": [
  {
   "cell_type": "code",
   "execution_count": 1,
   "id": "5d1adfc7",
   "metadata": {},
   "outputs": [],
   "source": [
    "import pandas as pd\n",
    "import numpy as np\n"
   ]
  },
  {
   "cell_type": "code",
   "execution_count": 4,
   "id": "f4fdab24",
   "metadata": {},
   "outputs": [],
   "source": [
    "\n",
    "# Charger les données\n",
    "df = pd.read_csv('avito_car_dataset.csv')"
   ]
  },
  {
   "cell_type": "code",
   "execution_count": 6,
   "id": "658f2803",
   "metadata": {},
   "outputs": [
    {
     "name": "stdout",
     "output_type": "stream",
     "text": [
      "   Unnamed: 0                                               Lien       Ville  \\\n",
      "0           0  https://www.avito.ma/fr/massira_2/voitures/FIA...      Temara   \n",
      "1           1  https://www.avito.ma/fr/temara/voitures/Dacia_...      Temara   \n",
      "2           2  https://www.avito.ma/fr/casablanca/voitures/Da...  Casablanca   \n",
      "3           3  https://www.avito.ma/fr/casablanca/voitures/to...  Casablanca   \n",
      "4           4  https://www.avito.ma/fr/dakhla/voitures/Toyota...      Dakhla   \n",
      "\n",
      "     Secteur      Marque      Modèle  Année-Modèle        Kilométrage  \\\n",
      "0  Massira 2        Fiat       Punto          2007  200 000 - 249 999   \n",
      "1        NaN       Dacia  Dokker Van          2013  400 000 - 449 999   \n",
      "2        NaN       Dacia      Dokker          2014  160 000 - 169 999   \n",
      "3        NaN  Volkswagen     Touareg          2005          0 - 4 999   \n",
      "4        NaN      Toyota       Prado          2007  200 000 - 249 999   \n",
      "\n",
      "  Type de carburant  Puissance fiscale  ... Caméra de recul  \\\n",
      "0            Diesel                  5  ...           False   \n",
      "1            Diesel                  6  ...           False   \n",
      "2            Diesel                  6  ...           False   \n",
      "3            Diesel                 10  ...           False   \n",
      "4            Diesel                 12  ...           False   \n",
      "\n",
      "   Vitres électriques    ABS    ESP Régulateur de vitesse  \\\n",
      "0               False   True  False                 False   \n",
      "1               False  False  False                 False   \n",
      "2               False  False  False                 False   \n",
      "3               False  False  False                 False   \n",
      "4               False   True  False                 False   \n",
      "\n",
      "   Limiteur de vitesse  CD/MP3/Bluetooth  Ordinateur de bord  \\\n",
      "0                False              True               False   \n",
      "1                False             False               False   \n",
      "2                False             False               False   \n",
      "3                False             False               False   \n",
      "4                False              True               False   \n",
      "\n",
      "   Verrouillage centralisé à distance   Prix  \n",
      "0                               False  60000  \n",
      "1                               False  70000  \n",
      "2                               False  90000  \n",
      "3                               False  90000  \n",
      "4                               False  97000  \n",
      "\n",
      "[5 rows x 32 columns]\n"
     ]
    }
   ],
   "source": [
    "# Afficher les premières lignes du dataset\n",
    "print(df.head())\n",
    "\n",
    "\n"
   ]
  },
  {
   "cell_type": "code",
   "execution_count": 7,
   "id": "c8a9f35a",
   "metadata": {},
   "outputs": [],
   "source": [
    "# Supprimer la colonne 'Secteur', unnamed :0 ,lien\n",
    "df = df.drop(columns=['Unnamed: 0', 'Lien','Secteur'])"
   ]
  },
  {
   "cell_type": "code",
   "execution_count": 8,
   "id": "47e5e7e0",
   "metadata": {},
   "outputs": [
    {
     "name": "stdout",
     "output_type": "stream",
     "text": [
      "<class 'pandas.core.frame.DataFrame'>\n",
      "RangeIndex: 24776 entries, 0 to 24775\n",
      "Data columns (total 29 columns):\n",
      " #   Column                              Non-Null Count  Dtype  \n",
      "---  ------                              --------------  -----  \n",
      " 0   Ville                               24776 non-null  object \n",
      " 1   Marque                              24776 non-null  object \n",
      " 2   Modèle                              24776 non-null  object \n",
      " 3   Année-Modèle                        24776 non-null  int64  \n",
      " 4   Kilométrage                         24776 non-null  object \n",
      " 5   Type de carburant                   24776 non-null  object \n",
      " 6   Puissance fiscale                   24776 non-null  int64  \n",
      " 7   Boite de vitesses                   24776 non-null  object \n",
      " 8   Nombre de portes                    20396 non-null  float64\n",
      " 9   Origine                             19489 non-null  object \n",
      " 10  Première main                       18567 non-null  object \n",
      " 11  État                                18098 non-null  object \n",
      " 12  Jantes aluminium                    24776 non-null  bool   \n",
      " 13  Airbags                             24776 non-null  bool   \n",
      " 14  Climatisation                       24776 non-null  bool   \n",
      " 15  Système de navigation/GPS           24776 non-null  bool   \n",
      " 16  Toit ouvrant                        24776 non-null  bool   \n",
      " 17  Sièges cuir                         24776 non-null  bool   \n",
      " 18  Radar de recul                      24776 non-null  bool   \n",
      " 19  Caméra de recul                     24776 non-null  bool   \n",
      " 20  Vitres électriques                  24776 non-null  bool   \n",
      " 21  ABS                                 24776 non-null  bool   \n",
      " 22  ESP                                 24776 non-null  bool   \n",
      " 23  Régulateur de vitesse               24776 non-null  bool   \n",
      " 24  Limiteur de vitesse                 24776 non-null  bool   \n",
      " 25  CD/MP3/Bluetooth                    24776 non-null  bool   \n",
      " 26  Ordinateur de bord                  24776 non-null  bool   \n",
      " 27  Verrouillage centralisé à distance  24776 non-null  bool   \n",
      " 28  Prix                                24776 non-null  int64  \n",
      "dtypes: bool(16), float64(1), int64(3), object(9)\n",
      "memory usage: 2.8+ MB\n",
      "None\n"
     ]
    }
   ],
   "source": [
    "# Afficher les informations générales sur les colonnes et les types de données\n",
    "print(df.info())\n"
   ]
  },
  {
   "cell_type": "code",
   "execution_count": 9,
   "id": "6433dffb",
   "metadata": {},
   "outputs": [
    {
     "name": "stdout",
     "output_type": "stream",
     "text": [
      "             Ville      Marque  Modèle  Année-Modèle        Kilométrage  \\\n",
      "count        24776       24776   24776  24776.000000              24776   \n",
      "unique         191          23     369           NaN                 36   \n",
      "top     Casablanca  Volkswagen  Kangoo           NaN  200 000 - 249 999   \n",
      "freq          6270        3503    1213           NaN               2760   \n",
      "mean           NaN         NaN     NaN   2011.844244                NaN   \n",
      "std            NaN         NaN     NaN      5.462925                NaN   \n",
      "min            NaN         NaN     NaN   1990.000000                NaN   \n",
      "25%            NaN         NaN     NaN   2008.000000                NaN   \n",
      "50%            NaN         NaN     NaN   2013.000000                NaN   \n",
      "75%            NaN         NaN     NaN   2016.000000                NaN   \n",
      "max            NaN         NaN     NaN   2022.000000                NaN   \n",
      "\n",
      "       Type de carburant  Puissance fiscale Boite de vitesses  \\\n",
      "count              24776       24776.000000             24776   \n",
      "unique                 4                NaN                 3   \n",
      "top               Diesel                NaN          Manuelle   \n",
      "freq               22618                NaN             17452   \n",
      "mean                 NaN           7.193938               NaN   \n",
      "std                  NaN           1.574124               NaN   \n",
      "min                  NaN           5.000000               NaN   \n",
      "25%                  NaN           6.000000               NaN   \n",
      "50%                  NaN           7.000000               NaN   \n",
      "75%                  NaN           8.000000               NaN   \n",
      "max                  NaN          14.000000               NaN   \n",
      "\n",
      "        Nombre de portes      Origine  ... Caméra de recul Vitres électriques  \\\n",
      "count       20396.000000        19489  ...           24776              24776   \n",
      "unique               NaN            4  ...               1                  1   \n",
      "top                  NaN  WW au Maroc  ...           False              False   \n",
      "freq                 NaN        14574  ...           24776              24776   \n",
      "mean            4.905766          NaN  ...             NaN                NaN   \n",
      "std             0.423789          NaN  ...             NaN                NaN   \n",
      "min             3.000000          NaN  ...             NaN                NaN   \n",
      "25%             5.000000          NaN  ...             NaN                NaN   \n",
      "50%             5.000000          NaN  ...             NaN                NaN   \n",
      "75%             5.000000          NaN  ...             NaN                NaN   \n",
      "max             5.000000          NaN  ...             NaN                NaN   \n",
      "\n",
      "          ABS    ESP Régulateur de vitesse Limiteur de vitesse  \\\n",
      "count   24776  24776                 24776               24776   \n",
      "unique      2      2                     1                   1   \n",
      "top      True  False                 False               False   \n",
      "freq    13111  15651                 24776               24776   \n",
      "mean      NaN    NaN                   NaN                 NaN   \n",
      "std       NaN    NaN                   NaN                 NaN   \n",
      "min       NaN    NaN                   NaN                 NaN   \n",
      "25%       NaN    NaN                   NaN                 NaN   \n",
      "50%       NaN    NaN                   NaN                 NaN   \n",
      "75%       NaN    NaN                   NaN                 NaN   \n",
      "max       NaN    NaN                   NaN                 NaN   \n",
      "\n",
      "       CD/MP3/Bluetooth Ordinateur de bord Verrouillage centralisé à distance  \\\n",
      "count             24776              24776                              24776   \n",
      "unique                2                  1                                  1   \n",
      "top                True              False                              False   \n",
      "freq              12957              24776                              24776   \n",
      "mean                NaN                NaN                                NaN   \n",
      "std                 NaN                NaN                                NaN   \n",
      "min                 NaN                NaN                                NaN   \n",
      "25%                 NaN                NaN                                NaN   \n",
      "50%                 NaN                NaN                                NaN   \n",
      "75%                 NaN                NaN                                NaN   \n",
      "max                 NaN                NaN                                NaN   \n",
      "\n",
      "                Prix  \n",
      "count   2.477600e+04  \n",
      "unique           NaN  \n",
      "top              NaN  \n",
      "freq             NaN  \n",
      "mean    2.169588e+05  \n",
      "std     6.749569e+06  \n",
      "min     6.000000e+04  \n",
      "25%     7.500000e+04  \n",
      "50%     1.000000e+05  \n",
      "75%     1.400000e+05  \n",
      "max     6.120372e+08  \n",
      "\n",
      "[11 rows x 29 columns]\n"
     ]
    }
   ],
   "source": [
    "\n",
    "# Résumer les statistiques descriptives\n",
    "print(df.describe(include='all'))"
   ]
  },
  {
   "cell_type": "code",
   "execution_count": 10,
   "id": "374be7c5",
   "metadata": {},
   "outputs": [
    {
     "name": "stdout",
     "output_type": "stream",
     "text": [
      "Ville                                    0\n",
      "Marque                                   0\n",
      "Modèle                                   0\n",
      "Année-Modèle                             0\n",
      "Kilométrage                              0\n",
      "Type de carburant                        0\n",
      "Puissance fiscale                        0\n",
      "Boite de vitesses                        0\n",
      "Nombre de portes                      4380\n",
      "Origine                               5287\n",
      "Première main                         6209\n",
      "État                                  6678\n",
      "Jantes aluminium                         0\n",
      "Airbags                                  0\n",
      "Climatisation                            0\n",
      "Système de navigation/GPS                0\n",
      "Toit ouvrant                             0\n",
      "Sièges cuir                              0\n",
      "Radar de recul                           0\n",
      "Caméra de recul                          0\n",
      "Vitres électriques                       0\n",
      "ABS                                      0\n",
      "ESP                                      0\n",
      "Régulateur de vitesse                    0\n",
      "Limiteur de vitesse                      0\n",
      "CD/MP3/Bluetooth                         0\n",
      "Ordinateur de bord                       0\n",
      "Verrouillage centralisé à distance       0\n",
      "Prix                                     0\n",
      "dtype: int64\n"
     ]
    }
   ],
   "source": [
    "# Vérifier les valeurs manquantes\n",
    "print(df.isnull().sum())\n"
   ]
  },
  {
   "cell_type": "code",
   "execution_count": 11,
   "id": "cda5a9f8",
   "metadata": {},
   "outputs": [],
   "source": [
    "df = df.drop(columns=['Première main'], axis=1)"
   ]
  },
  {
   "cell_type": "code",
   "execution_count": 13,
   "id": "1007faae",
   "metadata": {},
   "outputs": [
    {
     "name": "stdout",
     "output_type": "stream",
     "text": [
      "Valeurs uniques de la colonne 'Origine' :\n",
      "['WW au Maroc' 'Dédouanée' nan 'Importée neuve' 'Pas encore dédouanée']\n",
      "\n",
      "-------------------------------------\n",
      "\n",
      "Valeurs uniques de la colonne 'État' :\n",
      "['Très bon' 'Excellent' nan 'Bon' 'Pour Pièces' 'Correct' 'Endommagé']\n"
     ]
    }
   ],
   "source": [
    "# Afficher les valeurs uniques de la colonne 'Origine'\n",
    "print(\"Valeurs uniques de la colonne 'Origine' :\")\n",
    "print(df['Origine'].unique())\n",
    "\n",
    "print(\"\\n-------------------------------------\\n\")\n",
    "\n",
    "# Afficher les valeurs uniques de la colonne 'État'\n",
    "print(\"Valeurs uniques de la colonne 'État' :\")\n",
    "print(df['État'].unique())\n"
   ]
  },
  {
   "cell_type": "code",
   "execution_count": 15,
   "id": "15e73e6c",
   "metadata": {},
   "outputs": [
    {
     "name": "stdout",
     "output_type": "stream",
     "text": [
      "Ville                                 0\n",
      "Marque                                0\n",
      "Modèle                                0\n",
      "Année-Modèle                          0\n",
      "Kilométrage                           0\n",
      "Type de carburant                     0\n",
      "Puissance fiscale                     0\n",
      "Boite de vitesses                     0\n",
      "Nombre de portes                      0\n",
      "Origine                               0\n",
      "État                                  0\n",
      "Jantes aluminium                      0\n",
      "Airbags                               0\n",
      "Climatisation                         0\n",
      "Système de navigation/GPS             0\n",
      "Toit ouvrant                          0\n",
      "Sièges cuir                           0\n",
      "Radar de recul                        0\n",
      "Caméra de recul                       0\n",
      "Vitres électriques                    0\n",
      "ABS                                   0\n",
      "ESP                                   0\n",
      "Régulateur de vitesse                 0\n",
      "Limiteur de vitesse                   0\n",
      "CD/MP3/Bluetooth                      0\n",
      "Ordinateur de bord                    0\n",
      "Verrouillage centralisé à distance    0\n",
      "Prix                                  0\n",
      "dtype: int64\n"
     ]
    }
   ],
   "source": [
    "# Supprimer les lignes avec des valeurs manquantes dans les colonnes concernées\n",
    "df = df.dropna(subset=['Nombre de portes', 'Origine', 'État'])\n",
    "\n",
    "# Vérifier que les lignes ont bien été supprimées\n",
    "print(df.isnull().sum())"
   ]
  },
  {
   "cell_type": "code",
   "execution_count": 17,
   "id": "f2b03606",
   "metadata": {},
   "outputs": [
    {
     "name": "stdout",
     "output_type": "stream",
     "text": [
      "        Ville      Marque      Modèle  Année-Modèle        Kilométrage  \\\n",
      "0      Temara        Fiat       Punto          2007  200 000 - 249 999   \n",
      "1      Temara       Dacia  Dokker Van          2013  400 000 - 449 999   \n",
      "2  Casablanca       Dacia      Dokker          2014  160 000 - 169 999   \n",
      "3  Casablanca  Volkswagen     Touareg          2005          0 - 4 999   \n",
      "4      Dakhla      Toyota       Prado          2007  200 000 - 249 999   \n",
      "\n",
      "  Type de carburant  Puissance fiscale Boite de vitesses  Nombre de portes  \\\n",
      "0            Diesel                  5          Manuelle               5.0   \n",
      "1            Diesel                  6          Manuelle               3.0   \n",
      "2            Diesel                  6          Manuelle               5.0   \n",
      "3            Diesel                 10       Automatique               5.0   \n",
      "4            Diesel                 12          Manuelle               5.0   \n",
      "\n",
      "   Origine  ...  Caméra de recul  Vitres électriques    ABS    ESP  \\\n",
      "0        3  ...            False               False   True  False   \n",
      "1        3  ...            False               False  False  False   \n",
      "2        3  ...            False               False  False  False   \n",
      "3        3  ...            False               False  False  False   \n",
      "4        3  ...            False               False   True  False   \n",
      "\n",
      "   Régulateur de vitesse  Limiteur de vitesse  CD/MP3/Bluetooth  \\\n",
      "0                  False                False              True   \n",
      "1                  False                False             False   \n",
      "2                  False                False             False   \n",
      "3                  False                False             False   \n",
      "4                  False                False              True   \n",
      "\n",
      "   Ordinateur de bord  Verrouillage centralisé à distance   Prix  \n",
      "0               False                               False  60000  \n",
      "1               False                               False  70000  \n",
      "2               False                               False  90000  \n",
      "3               False                               False  90000  \n",
      "4               False                               False  97000  \n",
      "\n",
      "[5 rows x 28 columns]\n"
     ]
    },
    {
     "name": "stderr",
     "output_type": "stream",
     "text": [
      "C:\\Users\\pc\\AppData\\Local\\Programs\\Python\\Python37\\lib\\site-packages\\ipykernel_launcher.py:6: SettingWithCopyWarning: \n",
      "A value is trying to be set on a copy of a slice from a DataFrame.\n",
      "Try using .loc[row_indexer,col_indexer] = value instead\n",
      "\n",
      "See the caveats in the documentation: https://pandas.pydata.org/pandas-docs/stable/user_guide/indexing.html#returning-a-view-versus-a-copy\n",
      "  \n",
      "C:\\Users\\pc\\AppData\\Local\\Programs\\Python\\Python37\\lib\\site-packages\\ipykernel_launcher.py:8: SettingWithCopyWarning: \n",
      "A value is trying to be set on a copy of a slice from a DataFrame.\n",
      "Try using .loc[row_indexer,col_indexer] = value instead\n",
      "\n",
      "See the caveats in the documentation: https://pandas.pydata.org/pandas-docs/stable/user_guide/indexing.html#returning-a-view-versus-a-copy\n",
      "  \n"
     ]
    }
   ],
   "source": [
    "# Imputer d'abord, puis encoder\n",
    "from sklearn.preprocessing import LabelEncoder\n",
    "\n",
    "# Encoder les colonnes catégorielles\n",
    "label_enc = LabelEncoder()\n",
    "df['Origine'] = label_enc.fit_transform(df['Origine'])\n",
    "\n",
    "df['État'] = label_enc.fit_transform(df['État'])\n",
    "\n",
    "# Vérification\n",
    "print(df.head())"
   ]
  },
  {
   "cell_type": "code",
   "execution_count": 18,
   "id": "eaa17336",
   "metadata": {},
   "outputs": [
    {
     "name": "stdout",
     "output_type": "stream",
     "text": [
      "Valeurs uniques de la colonne 'Origine' :\n",
      "[3 0 1 2]\n",
      "\n",
      "-------------------------------------\n",
      "\n",
      "Valeurs uniques de la colonne 'État' :\n",
      "[5 3 0 4 1 2]\n"
     ]
    }
   ],
   "source": [
    "# Afficher les valeurs uniques de la colonne 'Origine'\n",
    "print(\"Valeurs uniques de la colonne 'Origine' :\")\n",
    "print(df['Origine'].unique())\n",
    "\n",
    "print(\"\\n-------------------------------------\\n\")\n",
    "\n",
    "# Afficher les valeurs uniques de la colonne 'État'\n",
    "print(\"Valeurs uniques de la colonne 'État' :\")\n",
    "print(df['État'].unique())\n"
   ]
  },
  {
   "cell_type": "code",
   "execution_count": 20,
   "id": "5ff5b5d8",
   "metadata": {},
   "outputs": [
    {
     "name": "stderr",
     "output_type": "stream",
     "text": [
      "C:\\Users\\pc\\AppData\\Local\\Programs\\Python\\Python37\\lib\\site-packages\\ipykernel_launcher.py:2: SettingWithCopyWarning: \n",
      "A value is trying to be set on a copy of a slice from a DataFrame.\n",
      "Try using .loc[row_indexer,col_indexer] = value instead\n",
      "\n",
      "See the caveats in the documentation: https://pandas.pydata.org/pandas-docs/stable/user_guide/indexing.html#returning-a-view-versus-a-copy\n",
      "  \n"
     ]
    }
   ],
   "source": [
    "df['Type de carburant'].unique()\n",
    "df['Type de carburant'] = label_enc.fit_transform(df['Type de carburant'])"
   ]
  },
  {
   "cell_type": "code",
   "execution_count": 23,
   "id": "4427a5bf",
   "metadata": {},
   "outputs": [
    {
     "name": "stdout",
     "output_type": "stream",
     "text": [
      "<class 'pandas.core.frame.DataFrame'>\n",
      "Int64Index: 15645 entries, 0 to 24774\n",
      "Data columns (total 28 columns):\n",
      " #   Column                              Non-Null Count  Dtype  \n",
      "---  ------                              --------------  -----  \n",
      " 0   Ville                               15645 non-null  object \n",
      " 1   Marque                              15645 non-null  object \n",
      " 2   Modèle                              15645 non-null  object \n",
      " 3   Année-Modèle                        15645 non-null  int64  \n",
      " 4   Kilométrage                         15645 non-null  object \n",
      " 5   Type de carburant                   15645 non-null  int32  \n",
      " 6   Puissance fiscale                   15645 non-null  int64  \n",
      " 7   Boite de vitesses                   15645 non-null  int32  \n",
      " 8   Nombre de portes                    15645 non-null  float64\n",
      " 9   Origine                             15645 non-null  int64  \n",
      " 10  État                                15645 non-null  int32  \n",
      " 11  Jantes aluminium                    15645 non-null  bool   \n",
      " 12  Airbags                             15645 non-null  bool   \n",
      " 13  Climatisation                       15645 non-null  bool   \n",
      " 14  Système de navigation/GPS           15645 non-null  bool   \n",
      " 15  Toit ouvrant                        15645 non-null  bool   \n",
      " 16  Sièges cuir                         15645 non-null  bool   \n",
      " 17  Radar de recul                      15645 non-null  bool   \n",
      " 18  Caméra de recul                     15645 non-null  bool   \n",
      " 19  Vitres électriques                  15645 non-null  bool   \n",
      " 20  ABS                                 15645 non-null  bool   \n",
      " 21  ESP                                 15645 non-null  bool   \n",
      " 22  Régulateur de vitesse               15645 non-null  bool   \n",
      " 23  Limiteur de vitesse                 15645 non-null  bool   \n",
      " 24  CD/MP3/Bluetooth                    15645 non-null  bool   \n",
      " 25  Ordinateur de bord                  15645 non-null  bool   \n",
      " 26  Verrouillage centralisé à distance  15645 non-null  bool   \n",
      " 27  Prix                                15645 non-null  int64  \n",
      "dtypes: bool(16), float64(1), int32(3), int64(4), object(4)\n",
      "memory usage: 1.6+ MB\n"
     ]
    }
   ],
   "source": [
    "df.info()"
   ]
  },
  {
   "cell_type": "code",
   "execution_count": 22,
   "id": "7579ab2f",
   "metadata": {},
   "outputs": [
    {
     "name": "stderr",
     "output_type": "stream",
     "text": [
      "C:\\Users\\pc\\AppData\\Local\\Programs\\Python\\Python37\\lib\\site-packages\\ipykernel_launcher.py:1: SettingWithCopyWarning: \n",
      "A value is trying to be set on a copy of a slice from a DataFrame.\n",
      "Try using .loc[row_indexer,col_indexer] = value instead\n",
      "\n",
      "See the caveats in the documentation: https://pandas.pydata.org/pandas-docs/stable/user_guide/indexing.html#returning-a-view-versus-a-copy\n",
      "  \"\"\"Entry point for launching an IPython kernel.\n"
     ]
    }
   ],
   "source": [
    "\n",
    "df['Boite de vitesses'] = label_enc.fit_transform(df['Boite de vitesses'])\n",
    "df['Marque'] = label_enc.fit_transform(df['Marque'])\n",
    "df['Modèle'] = label_enc.fit_transform(df['Modèle'])"
   ]
  },
  {
   "cell_type": "code",
   "execution_count": 24,
   "id": "d100b52c",
   "metadata": {},
   "outputs": [],
   "source": [
    "df = df.drop(columns=['Ville'])"
   ]
  },
  {
   "cell_type": "code",
   "execution_count": 26,
   "id": "629d9e15",
   "metadata": {},
   "outputs": [],
   "source": [
    "# Encoder les colonnes booléennes (Oui/Non) en 0 et 1\n",
    "bool_cols = ['Jantes aluminium', 'Airbags', 'Climatisation', 'Système de navigation/GPS', 'Toit ouvrant', \n",
    "             'Sièges cuir', 'Radar de recul', 'Caméra de recul', 'Vitres électriques', \n",
    "             'ABS', 'ESP', 'Régulateur de vitesse', 'Limiteur de vitesse', \n",
    "             'CD/MP3/Bluetooth', 'Ordinateur de bord', 'Verrouillage centralisé à distance']\n",
    "\n",
    "# S'assurer que ces colonnes sont bien de type booléen\n",
    "df[bool_cols] = df[bool_cols].astype(int)"
   ]
  },
  {
   "cell_type": "code",
   "execution_count": 34,
   "id": "ba88ef2e",
   "metadata": {},
   "outputs": [
    {
     "name": "stdout",
     "output_type": "stream",
     "text": [
      "0    224999\n",
      "1    424999\n",
      "2    164999\n",
      "3      2499\n",
      "4    224999\n",
      "Name: Kilométrage, dtype: int64\n"
     ]
    }
   ],
   "source": [
    "\n",
    "\n",
    "#  de conversion d'une plage de kilométrage en nombre\n",
    "def parse_km(km_str):\n",
    "    # Si la valeur est un intervalle (par exemple \"200 000 - 249 999\")\n",
    "    if isinstance(km_str, str) and '-' in km_str:\n",
    "        # Extraire les bornes de la plage\n",
    "        km_range = km_str.split(' - ')\n",
    "        km_min = int(km_range[0].replace(' ', ''))  # Convertir sans les espaces\n",
    "        km_max = int(km_range[1].replace(' ', ''))\n",
    "        \n",
    "        # Retourner la valeur médiane ou la valeur minimale\n",
    "        return (km_min + km_max) // 2  # On peut aussi retourner km_min ou km_max selon le besoin\n",
    "    \n",
    "    # Si la valeur est un simple kilométrage (par exemple \"150000\")\n",
    "    elif isinstance(km_str, str):\n",
    "        return int(km_str.replace(' ', ''))  # Enlever les espaces et convertir en entier\n",
    "\n",
    "    return km_str  # Retourner la valeur si elle est déjà numérique\n",
    "\n",
    "# Appliquer cette fonction à la colonne Kilométrage\n",
    "df['Kilométrage'] = df['Kilométrage'].apply(parse_km)\n",
    "\n",
    "# Vérification du résultat\n",
    "print(df['Kilométrage'].head())\n"
   ]
  },
  {
   "cell_type": "code",
   "execution_count": 35,
   "id": "7dec1bfb",
   "metadata": {},
   "outputs": [
    {
     "name": "stdout",
     "output_type": "stream",
     "text": [
      "<class 'pandas.core.frame.DataFrame'>\n",
      "Int64Index: 15645 entries, 0 to 24774\n",
      "Data columns (total 27 columns):\n",
      " #   Column                              Non-Null Count  Dtype  \n",
      "---  ------                              --------------  -----  \n",
      " 0   Marque                              15645 non-null  int32  \n",
      " 1   Modèle                              15645 non-null  int32  \n",
      " 2   Année-Modèle                        15645 non-null  int64  \n",
      " 3   Kilométrage                         15645 non-null  int64  \n",
      " 4   Type de carburant                   15645 non-null  int32  \n",
      " 5   Puissance fiscale                   15645 non-null  int64  \n",
      " 6   Boite de vitesses                   15645 non-null  int32  \n",
      " 7   Nombre de portes                    15645 non-null  float64\n",
      " 8   Origine                             15645 non-null  int64  \n",
      " 9   État                                15645 non-null  int32  \n",
      " 10  Jantes aluminium                    15645 non-null  int32  \n",
      " 11  Airbags                             15645 non-null  int32  \n",
      " 12  Climatisation                       15645 non-null  int32  \n",
      " 13  Système de navigation/GPS           15645 non-null  int32  \n",
      " 14  Toit ouvrant                        15645 non-null  int32  \n",
      " 15  Sièges cuir                         15645 non-null  int32  \n",
      " 16  Radar de recul                      15645 non-null  int32  \n",
      " 17  Caméra de recul                     15645 non-null  int32  \n",
      " 18  Vitres électriques                  15645 non-null  int32  \n",
      " 19  ABS                                 15645 non-null  int32  \n",
      " 20  ESP                                 15645 non-null  int32  \n",
      " 21  Régulateur de vitesse               15645 non-null  int32  \n",
      " 22  Limiteur de vitesse                 15645 non-null  int32  \n",
      " 23  CD/MP3/Bluetooth                    15645 non-null  int32  \n",
      " 24  Ordinateur de bord                  15645 non-null  int32  \n",
      " 25  Verrouillage centralisé à distance  15645 non-null  int32  \n",
      " 26  Prix                                15645 non-null  int64  \n",
      "dtypes: float64(1), int32(21), int64(5)\n",
      "memory usage: 2.1 MB\n"
     ]
    }
   ],
   "source": [
    "df.info()"
   ]
  },
  {
   "cell_type": "code",
   "execution_count": 36,
   "id": "10df4a09",
   "metadata": {},
   "outputs": [],
   "source": [
    "from sklearn.model_selection import train_test_split\n",
    "from sklearn.linear_model import LinearRegression\n",
    "from sklearn.metrics import mean_squared_error, r2_score\n",
    "from sklearn.preprocessing import StandardScaler"
   ]
  },
  {
   "cell_type": "code",
   "execution_count": 37,
   "id": "7a7cec52",
   "metadata": {},
   "outputs": [],
   "source": [
    "# 1. Séparer les features (X) et la cible (y)\n",
    "X = df.drop(columns=['Prix'])  # Supposons que 'Prix' est la colonne cible\n",
    "y = df['Prix']\n",
    "\n",
    "# 2. Diviser les données en ensembles d'entraînement et de test\n",
    "X_train, X_test, y_train, y_test = train_test_split(X, y, test_size=0.2, random_state=42)\n"
   ]
  },
  {
   "cell_type": "code",
   "execution_count": 38,
   "id": "b9ba619c",
   "metadata": {},
   "outputs": [],
   "source": [
    "# 3. Normaliser les données (si nécessaire pour certains modèles)\n",
    "scaler = StandardScaler()\n",
    "X_train_scaled = scaler.fit_transform(X_train.select_dtypes(include=[np.number]))  # Normaliser les features numériques\n",
    "X_test_scaled = scaler.transform(X_test.select_dtypes(include=[np.number]))\n"
   ]
  },
  {
   "cell_type": "code",
   "execution_count": 39,
   "id": "e0ad3176",
   "metadata": {},
   "outputs": [
    {
     "name": "stdout",
     "output_type": "stream",
     "text": [
      "MSE: 136435110946.18687\n",
      "RMSE: 369371.2373022389\n",
      "R2: 0.01014884166859742\n"
     ]
    }
   ],
   "source": [
    "# 4. Appliquer la régression linéaire\n",
    "model = LinearRegression()\n",
    "model.fit(X_train_scaled, y_train)\n",
    "\n",
    "# 5. Prédictions sur l'ensemble de test\n",
    "y_pred = model.predict(X_test_scaled)\n",
    "\n",
    "# 6. Évaluer le modèle\n",
    "mse = mean_squared_error(y_test, y_pred)\n",
    "rmse = np.sqrt(mse)\n",
    "r2 = r2_score(y_test, y_pred)\n",
    "\n",
    "print(\"MSE:\", mse)\n",
    "print(\"RMSE:\", rmse)\n",
    "print(\"R2:\", r2)"
   ]
  },
  {
   "cell_type": "code",
   "execution_count": 40,
   "id": "efd829df",
   "metadata": {},
   "outputs": [
    {
     "name": "stdout",
     "output_type": "stream",
     "text": [
      "Random Forest MSE: 8929788503.187723\n",
      "Random Forest RMSE: 94497.5581863771\n",
      "Random Forest R2: 0.9352134400578076\n"
     ]
    }
   ],
   "source": [
    "from sklearn.ensemble import RandomForestRegressor\n",
    "\n",
    "# Appliquer un modèle de forêt aléatoire\n",
    "rf_model = RandomForestRegressor(n_estimators=100, random_state=42)\n",
    "rf_model.fit(X_train, y_train)\n",
    "\n",
    "# Prédictions sur l'ensemble de test\n",
    "y_rf_pred = rf_model.predict(X_test)\n",
    "\n",
    "# Évaluer le modèle\n",
    "rf_mse = mean_squared_error(y_test, y_rf_pred)\n",
    "rf_rmse = np.sqrt(rf_mse)\n",
    "rf_r2 = r2_score(y_test, y_rf_pred)\n",
    "\n",
    "print(\"Random Forest MSE:\", rf_mse)\n",
    "print(\"Random Forest RMSE:\", rf_rmse)\n",
    "print(\"Random Forest R2:\", rf_r2)\n"
   ]
  },
  {
   "cell_type": "code",
   "execution_count": null,
   "id": "0f481dd7",
   "metadata": {},
   "outputs": [],
   "source": []
  }
 ],
 "metadata": {
  "kernelspec": {
   "display_name": "Python 3 (ipykernel)",
   "language": "python",
   "name": "python3"
  },
  "language_info": {
   "codemirror_mode": {
    "name": "ipython",
    "version": 3
   },
   "file_extension": ".py",
   "mimetype": "text/x-python",
   "name": "python",
   "nbconvert_exporter": "python",
   "pygments_lexer": "ipython3",
   "version": "3.7.9"
  }
 },
 "nbformat": 4,
 "nbformat_minor": 5
}
